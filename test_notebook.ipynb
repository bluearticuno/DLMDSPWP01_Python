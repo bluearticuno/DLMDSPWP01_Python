{
 "cells": [
  {
   "cell_type": "code",
   "execution_count": 1,
   "metadata": {},
   "outputs": [
    {
     "name": "stdout",
     "output_type": "stream",
     "text": [
      "This is Nugi testing Jupyter Notebook via Visual Studio Code\n"
     ]
    }
   ],
   "source": [
    "print(\"This is Nugi testing Jupyter Notebook via Visual Studio Code\")"
   ]
  },
  {
   "cell_type": "code",
   "execution_count": 6,
   "metadata": {},
   "outputs": [
    {
     "data": {
      "text/plain": [
       "8"
      ]
     },
     "execution_count": 6,
     "metadata": {},
     "output_type": "execute_result"
    }
   ],
   "source": [
    "3+5"
   ]
  },
  {
   "cell_type": "code",
   "execution_count": 1,
   "metadata": {},
   "outputs": [],
   "source": [
    "import pandas as pd"
   ]
  },
  {
   "cell_type": "code",
   "execution_count": 2,
   "metadata": {},
   "outputs": [
    {
     "data": {
      "text/html": [
       "<div>\n",
       "<style scoped>\n",
       "    .dataframe tbody tr th:only-of-type {\n",
       "        vertical-align: middle;\n",
       "    }\n",
       "\n",
       "    .dataframe tbody tr th {\n",
       "        vertical-align: top;\n",
       "    }\n",
       "\n",
       "    .dataframe thead th {\n",
       "        text-align: right;\n",
       "    }\n",
       "</style>\n",
       "<table border=\"1\" class=\"dataframe\">\n",
       "  <thead>\n",
       "    <tr style=\"text-align: right;\">\n",
       "      <th></th>\n",
       "      <th>X</th>\n",
       "      <th>Y1</th>\n",
       "      <th>Y2</th>\n",
       "      <th>Y3</th>\n",
       "      <th>Y4</th>\n",
       "    </tr>\n",
       "  </thead>\n",
       "  <tbody>\n",
       "    <tr>\n",
       "      <th>0</th>\n",
       "      <td>1</td>\n",
       "      <td>YYY1</td>\n",
       "      <td>YYY2</td>\n",
       "      <td>YYY3</td>\n",
       "      <td>YYY4</td>\n",
       "    </tr>\n",
       "    <tr>\n",
       "      <th>1</th>\n",
       "      <td>2</td>\n",
       "      <td>YYY2</td>\n",
       "      <td>YYY4</td>\n",
       "      <td>YYY6</td>\n",
       "      <td>YYY8</td>\n",
       "    </tr>\n",
       "    <tr>\n",
       "      <th>2</th>\n",
       "      <td>3</td>\n",
       "      <td>YYY3</td>\n",
       "      <td>YYY6</td>\n",
       "      <td>YYY9</td>\n",
       "      <td>YYY12</td>\n",
       "    </tr>\n",
       "  </tbody>\n",
       "</table>\n",
       "</div>"
      ],
      "text/plain": [
       "   X    Y1    Y2    Y3     Y4\n",
       "0  1  YYY1  YYY2  YYY3   YYY4\n",
       "1  2  YYY2  YYY4  YYY6   YYY8\n",
       "2  3  YYY3  YYY6  YYY9  YYY12"
      ]
     },
     "execution_count": 2,
     "metadata": {},
     "output_type": "execute_result"
    }
   ],
   "source": [
    "pd.read_csv(\"file1.csv\")"
   ]
  },
  {
   "cell_type": "code",
   "execution_count": 11,
   "metadata": {},
   "outputs": [
    {
     "name": "stdout",
     "output_type": "stream",
     "text": [
      "C:\\Users\\nurca\\OneDrive\\Desktop\\Python test\\file1.csv\n",
      "C:\\Users\\nurca\\OneDrive\\Desktop\\Python test\\file2.csv\n",
      "C:\\Users\\nurca\\OneDrive\\Desktop\\Python test\\file3.csv\n"
     ]
    },
    {
     "data": {
      "text/html": [
       "<div>\n",
       "<style scoped>\n",
       "    .dataframe tbody tr th:only-of-type {\n",
       "        vertical-align: middle;\n",
       "    }\n",
       "\n",
       "    .dataframe tbody tr th {\n",
       "        vertical-align: top;\n",
       "    }\n",
       "\n",
       "    .dataframe thead th {\n",
       "        text-align: right;\n",
       "    }\n",
       "</style>\n",
       "<table border=\"1\" class=\"dataframe\">\n",
       "  <thead>\n",
       "    <tr style=\"text-align: right;\">\n",
       "      <th></th>\n",
       "      <th>X</th>\n",
       "      <th>Y1</th>\n",
       "      <th>Y2</th>\n",
       "      <th>Y3</th>\n",
       "      <th>Y4</th>\n",
       "    </tr>\n",
       "  </thead>\n",
       "  <tbody>\n",
       "    <tr>\n",
       "      <th>0</th>\n",
       "      <td>1</td>\n",
       "      <td>YYY1</td>\n",
       "      <td>YYY2</td>\n",
       "      <td>YYY3</td>\n",
       "      <td>YYY4</td>\n",
       "    </tr>\n",
       "    <tr>\n",
       "      <th>1</th>\n",
       "      <td>2</td>\n",
       "      <td>YYY2</td>\n",
       "      <td>YYY4</td>\n",
       "      <td>YYY6</td>\n",
       "      <td>YYY8</td>\n",
       "    </tr>\n",
       "    <tr>\n",
       "      <th>2</th>\n",
       "      <td>3</td>\n",
       "      <td>YYY3</td>\n",
       "      <td>YYY6</td>\n",
       "      <td>YYY9</td>\n",
       "      <td>YYY12</td>\n",
       "    </tr>\n",
       "    <tr>\n",
       "      <th>3</th>\n",
       "      <td>1</td>\n",
       "      <td>XXX1</td>\n",
       "      <td>XXX2</td>\n",
       "      <td>XXX3</td>\n",
       "      <td>XXX4</td>\n",
       "    </tr>\n",
       "    <tr>\n",
       "      <th>4</th>\n",
       "      <td>2</td>\n",
       "      <td>XXX2</td>\n",
       "      <td>XXX4</td>\n",
       "      <td>XXX6</td>\n",
       "      <td>XXX8</td>\n",
       "    </tr>\n",
       "    <tr>\n",
       "      <th>5</th>\n",
       "      <td>3</td>\n",
       "      <td>XXX3</td>\n",
       "      <td>XXX6</td>\n",
       "      <td>XXX9</td>\n",
       "      <td>XXX12</td>\n",
       "    </tr>\n",
       "    <tr>\n",
       "      <th>6</th>\n",
       "      <td>1</td>\n",
       "      <td>ZZZ1</td>\n",
       "      <td>ZZZ2</td>\n",
       "      <td>ZZZ3</td>\n",
       "      <td>ZZZ4</td>\n",
       "    </tr>\n",
       "    <tr>\n",
       "      <th>7</th>\n",
       "      <td>2</td>\n",
       "      <td>ZZZ2</td>\n",
       "      <td>ZZZ4</td>\n",
       "      <td>ZZZ6</td>\n",
       "      <td>ZZZ8</td>\n",
       "    </tr>\n",
       "    <tr>\n",
       "      <th>8</th>\n",
       "      <td>3</td>\n",
       "      <td>ZZZ3</td>\n",
       "      <td>ZZZ6</td>\n",
       "      <td>ZZZ9</td>\n",
       "      <td>ZZZ12</td>\n",
       "    </tr>\n",
       "  </tbody>\n",
       "</table>\n",
       "</div>"
      ],
      "text/plain": [
       "   X    Y1    Y2    Y3     Y4\n",
       "0  1  YYY1  YYY2  YYY3   YYY4\n",
       "1  2  YYY2  YYY4  YYY6   YYY8\n",
       "2  3  YYY3  YYY6  YYY9  YYY12\n",
       "3  1  XXX1  XXX2  XXX3   XXX4\n",
       "4  2  XXX2  XXX4  XXX6   XXX8\n",
       "5  3  XXX3  XXX6  XXX9  XXX12\n",
       "6  1  ZZZ1  ZZZ2  ZZZ3   ZZZ4\n",
       "7  2  ZZZ2  ZZZ4  ZZZ6   ZZZ8\n",
       "8  3  ZZZ3  ZZZ6  ZZZ9  ZZZ12"
      ]
     },
     "execution_count": 11,
     "metadata": {},
     "output_type": "execute_result"
    }
   ],
   "source": [
    "import glob \n",
    "\n",
    "folder_path = r'C:\\Users\\nurca\\OneDrive\\Desktop\\Python test'\n",
    "file_names = glob.glob(folder_path + \"/*.csv\")\n",
    "\n",
    "li = []\n",
    "for file_name in file_names:\n",
    "    print(file_name)\n",
    "    df = pd.read_csv(file_name, index_col=None, header=0)\n",
    "    li.append(df)\n",
    "\n",
    "frame = pd.concat(li, axis=0, ignore_index=True)\n",
    "frame\n",
    "    "
   ]
  },
  {
   "cell_type": "code",
   "execution_count": 14,
   "metadata": {},
   "outputs": [
    {
     "data": {
      "text/html": [
       "<div>\n",
       "<style scoped>\n",
       "    .dataframe tbody tr th:only-of-type {\n",
       "        vertical-align: middle;\n",
       "    }\n",
       "\n",
       "    .dataframe tbody tr th {\n",
       "        vertical-align: top;\n",
       "    }\n",
       "\n",
       "    .dataframe thead th {\n",
       "        text-align: right;\n",
       "    }\n",
       "</style>\n",
       "<table border=\"1\" class=\"dataframe\">\n",
       "  <thead>\n",
       "    <tr style=\"text-align: right;\">\n",
       "      <th></th>\n",
       "      <th>X</th>\n",
       "      <th>Y1</th>\n",
       "      <th>Y2</th>\n",
       "      <th>Y3</th>\n",
       "      <th>Y4</th>\n",
       "    </tr>\n",
       "  </thead>\n",
       "  <tbody>\n",
       "    <tr>\n",
       "      <th>0</th>\n",
       "      <td>1</td>\n",
       "      <td>YYY1</td>\n",
       "      <td>YYY2</td>\n",
       "      <td>YYY3</td>\n",
       "      <td>YYY4</td>\n",
       "    </tr>\n",
       "    <tr>\n",
       "      <th>1</th>\n",
       "      <td>2</td>\n",
       "      <td>YYY2</td>\n",
       "      <td>YYY4</td>\n",
       "      <td>YYY6</td>\n",
       "      <td>YYY8</td>\n",
       "    </tr>\n",
       "    <tr>\n",
       "      <th>2</th>\n",
       "      <td>3</td>\n",
       "      <td>YYY3</td>\n",
       "      <td>YYY6</td>\n",
       "      <td>YYY9</td>\n",
       "      <td>YYY12</td>\n",
       "    </tr>\n",
       "    <tr>\n",
       "      <th>3</th>\n",
       "      <td>1</td>\n",
       "      <td>XXX1</td>\n",
       "      <td>XXX2</td>\n",
       "      <td>XXX3</td>\n",
       "      <td>XXX4</td>\n",
       "    </tr>\n",
       "    <tr>\n",
       "      <th>4</th>\n",
       "      <td>2</td>\n",
       "      <td>XXX2</td>\n",
       "      <td>XXX4</td>\n",
       "      <td>XXX6</td>\n",
       "      <td>XXX8</td>\n",
       "    </tr>\n",
       "    <tr>\n",
       "      <th>5</th>\n",
       "      <td>3</td>\n",
       "      <td>XXX3</td>\n",
       "      <td>XXX6</td>\n",
       "      <td>XXX9</td>\n",
       "      <td>XXX12</td>\n",
       "    </tr>\n",
       "    <tr>\n",
       "      <th>6</th>\n",
       "      <td>1</td>\n",
       "      <td>ZZZ1</td>\n",
       "      <td>ZZZ2</td>\n",
       "      <td>ZZZ3</td>\n",
       "      <td>ZZZ4</td>\n",
       "    </tr>\n",
       "    <tr>\n",
       "      <th>7</th>\n",
       "      <td>2</td>\n",
       "      <td>ZZZ2</td>\n",
       "      <td>ZZZ4</td>\n",
       "      <td>ZZZ6</td>\n",
       "      <td>ZZZ8</td>\n",
       "    </tr>\n",
       "    <tr>\n",
       "      <th>8</th>\n",
       "      <td>3</td>\n",
       "      <td>ZZZ3</td>\n",
       "      <td>ZZZ6</td>\n",
       "      <td>ZZZ9</td>\n",
       "      <td>ZZZ12</td>\n",
       "    </tr>\n",
       "  </tbody>\n",
       "</table>\n",
       "</div>"
      ],
      "text/plain": [
       "   X    Y1    Y2    Y3     Y4\n",
       "0  1  YYY1  YYY2  YYY3   YYY4\n",
       "1  2  YYY2  YYY4  YYY6   YYY8\n",
       "2  3  YYY3  YYY6  YYY9  YYY12\n",
       "3  1  XXX1  XXX2  XXX3   XXX4\n",
       "4  2  XXX2  XXX4  XXX6   XXX8\n",
       "5  3  XXX3  XXX6  XXX9  XXX12\n",
       "6  1  ZZZ1  ZZZ2  ZZZ3   ZZZ4\n",
       "7  2  ZZZ2  ZZZ4  ZZZ6   ZZZ8\n",
       "8  3  ZZZ3  ZZZ6  ZZZ9  ZZZ12"
      ]
     },
     "execution_count": 14,
     "metadata": {},
     "output_type": "execute_result"
    }
   ],
   "source": [
    "import os\n",
    "\n",
    "dff = pd.concat(map(pd.read_csv, glob.glob(os.path.join('',\"*.csv\"))), ignore_index=True)\n",
    "#print(os.path.join('',\"*.csv\"))\n",
    "dff"
   ]
  },
  {
   "cell_type": "markdown",
   "metadata": {},
   "source": [
    "# This is a markdown"
   ]
  },
  {
   "cell_type": "code",
   "execution_count": 1,
   "metadata": {},
   "outputs": [],
   "source": [
    "import numpy as np\n",
    "import matplotlib.pyplot as plt"
   ]
  },
  {
   "cell_type": "code",
   "execution_count": 2,
   "metadata": {},
   "outputs": [
    {
     "data": {
      "text/plain": [
       "[<matplotlib.lines.Line2D at 0x22b87d55730>]"
      ]
     },
     "execution_count": 2,
     "metadata": {},
     "output_type": "execute_result"
    },
    {
     "data": {
      "image/png": "[encoded data removed]",
      "text/plain": [
       "<Figure size 432x288 with 1 Axes>"
      ]
     },
     "metadata": {
      "needs_background": "light"
     },
     "output_type": "display_data"
    }
   ],
   "source": [
    "x = np.arange(1,100,10)\n",
    "y = np.sin(x)\n",
    "plt.plot(x,y)"
   ]
  },
  {
   "cell_type": "code",
   "execution_count": 2,
   "metadata": {},
   "outputs": [],
   "source": [
    "import pandas as pd\n"
   ]
  },
  {
   "cell_type": "code",
   "execution_count": 3,
   "metadata": {},
   "outputs": [
    {
     "data": {
      "text/html": [
       "<div>\n",
       "<style scoped>\n",
       "    .dataframe tbody tr th:only-of-type {\n",
       "        vertical-align: middle;\n",
       "    }\n",
       "\n",
       "    .dataframe tbody tr th {\n",
       "        vertical-align: top;\n",
       "    }\n",
       "\n",
       "    .dataframe thead th {\n",
       "        text-align: right;\n",
       "    }\n",
       "</style>\n",
       "<table border=\"1\" class=\"dataframe\">\n",
       "  <thead>\n",
       "    <tr style=\"text-align: right;\">\n",
       "      <th></th>\n",
       "      <th>X</th>\n",
       "      <th>Y1</th>\n",
       "      <th>Y2</th>\n",
       "      <th>Y3</th>\n",
       "      <th>Y4</th>\n",
       "    </tr>\n",
       "  </thead>\n",
       "  <tbody>\n",
       "    <tr>\n",
       "      <th>0</th>\n",
       "      <td>1</td>\n",
       "      <td>XXX1</td>\n",
       "      <td>XXX2</td>\n",
       "      <td>XXX3</td>\n",
       "      <td>XXX4</td>\n",
       "    </tr>\n",
       "    <tr>\n",
       "      <th>1</th>\n",
       "      <td>2</td>\n",
       "      <td>XXX2</td>\n",
       "      <td>XXX4</td>\n",
       "      <td>XXX6</td>\n",
       "      <td>XXX8</td>\n",
       "    </tr>\n",
       "    <tr>\n",
       "      <th>2</th>\n",
       "      <td>3</td>\n",
       "      <td>XXX3</td>\n",
       "      <td>XXX6</td>\n",
       "      <td>XXX9</td>\n",
       "      <td>XXX12</td>\n",
       "    </tr>\n",
       "  </tbody>\n",
       "</table>\n",
       "</div>"
      ],
      "text/plain": [
       "   X    Y1    Y2    Y3     Y4\n",
       "0  1  XXX1  XXX2  XXX3   XXX4\n",
       "1  2  XXX2  XXX4  XXX6   XXX8\n",
       "2  3  XXX3  XXX6  XXX9  XXX12"
      ]
     },
     "execution_count": 3,
     "metadata": {},
     "output_type": "execute_result"
    }
   ],
   "source": [
    "df = pd.read_csv(\"file2.csv\")\n",
    "df"
   ]
  }
 ],
 "metadata": {
  "interpreter": {
   "hash": "a1269313a7c89ba1fce1f664fddf915f8a57b23c0c6e53b9096ff99638b89011"
  },
  "kernelspec": {
   "display_name": "Python 3.9.7 64-bit",
   "name": "python3"
  },
  "language_info": {
   "codemirror_mode": {
    "name": "ipython",
    "version": 3
   },
   "file_extension": ".py",
   "mimetype": "text/x-python",
   "name": "python",
   "nbconvert_exporter": "python",
   "pygments_lexer": "ipython3",
   "version": "3.9.7"
  },
  "orig_nbformat": 4
 },
 "nbformat": 4,
 "nbformat_minor": 2
}
